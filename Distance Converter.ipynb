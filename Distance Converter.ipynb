{
 "cells": [
  {
   "cell_type": "code",
   "execution_count": 3,
   "id": "aca58520",
   "metadata": {},
   "outputs": [],
   "source": [
    "import tkinter as tk \n",
    "from tkinter import ttk #import widgets\n",
    "from PIL import Image, ImageTk\n",
    "import tkinter.font as font\n",
    "try: \n",
    "    from ctypes import windll\n",
    "    windll.shcore.SetProcessDpiAwareness(1)\n",
    "except: \n",
    "    pass\n",
    "\n",
    "root = tk.Tk()\n",
    "root.title(\"Distance converter\")\n",
    "\n",
    "\n",
    "metres_value = tk.StringVar()\n",
    "feet_value = tk.StringVar(value = \"Feet shown here\")\n",
    "\n",
    "font.nametofont(\"TkDefaultFont\").configure(size=15)\n",
    "\n",
    "def calculate_feet(*args):\n",
    "    try: \n",
    "        metres = float(metres_value.get())\n",
    "        feet = metres* 3.28084\n",
    "        feet_value.set(f\"{feet:.3f}\")\n",
    "    except ValueError: \n",
    "        pass\n",
    "    \n",
    "root.columnconfigure(0, weight=1)\n",
    "\n",
    "main = ttk.Frame(root, padding =(30,15))\n",
    "main.grid()\n",
    "\n",
    "metres_label= ttk.Label(main, text = \"Metres: \")\n",
    "metres_input = ttk.Entry(main, width = 10, textvariable= metres_value, font=(\"Segoe UI\", 15))\n",
    "feet_label = ttk.Label(main, text = \"Feet: \")\n",
    "feet_display = ttk.Label(main, text = \"Feet shown here\", textvariable= feet_value)\n",
    "calc_button = ttk.Button(main, text = \"Calculate\", command = calculate_feet)\n",
    "\n",
    "metres_label.grid(column = 0, row=0, sticky=\"W\", padx=5, pady=5)\n",
    "metres_input.grid(column=1, row=0, sticky= \"EW\", padx=5, pady=5)\n",
    "metres_input.focus()\n",
    "\n",
    "feet_label.grid(column=0, row=1, sticky=\"W\", padx=5, pady=5)\n",
    "feet_display.grid(column=1, row=1, sticky= \"EW\", padx=5, pady=5)\n",
    "\n",
    "calc_button.grid(column =0, row=2, columnspan=2, sticky=\"EW\", padx=5, pady=5)\n",
    "\n",
    "for child in main.winfo_children(): #For all the child of the \"main\" frame\n",
    "    child.grid_configure(padx=15, pady= 15)\n",
    "\n",
    "root.bind(\"<Return>\", calculate_feet)\n",
    "root.bind(\"<KP_Enter>\", calculate_feet)\n",
    "\n",
    "root.mainloop()"
   ]
  }
 ],
 "metadata": {
  "kernelspec": {
   "display_name": "Python 3 (ipykernel)",
   "language": "python",
   "name": "python3"
  },
  "language_info": {
   "codemirror_mode": {
    "name": "ipython",
    "version": 3
   },
   "file_extension": ".py",
   "mimetype": "text/x-python",
   "name": "python",
   "nbconvert_exporter": "python",
   "pygments_lexer": "ipython3",
   "version": "3.9.17"
  }
 },
 "nbformat": 4,
 "nbformat_minor": 5
}
