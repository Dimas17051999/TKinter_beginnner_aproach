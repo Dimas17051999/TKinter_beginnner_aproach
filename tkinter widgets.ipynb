{
 "cells": [
  {
   "cell_type": "code",
   "execution_count": 2,
   "id": "927c1408",
   "metadata": {},
   "outputs": [],
   "source": [
    "import tkinter as tk \n",
    "from tkinter import ttk #import widgets\n",
    "from PIL import Image, ImageTk\n",
    "\n",
    "try: \n",
    "    from ctypes import windll\n",
    "    windll.shcore.SetProcessDpiAwareness(1)\n",
    "except: \n",
    "    pass"
   ]
  },
  {
   "cell_type": "code",
   "execution_count": 2,
   "id": "f7579b8d",
   "metadata": {},
   "outputs": [],
   "source": [
    "root = tk.Tk()\n",
    "root.geometry(\"600x400\")\n",
    "root.resizable(False, False)\n",
    "root.title(\"Widget Examples\")\n",
    "\n",
    "label = ttk.Label(root, text = 'Hello', padding=20)\n",
    "label.config(font= (\"Segoe UI\", 20))\n",
    "label.pack()\n",
    "\n",
    "root.mainloop()"
   ]
  },
  {
   "cell_type": "code",
   "execution_count": 8,
   "id": "48479c9f",
   "metadata": {},
   "outputs": [
    {
     "name": "stdout",
     "output_type": "stream",
     "text": [
      "Please enter a comment...\n",
      "\n"
     ]
    }
   ],
   "source": [
    "root = tk.Tk()\n",
    "root.geometry(\"600x400\")\n",
    "root.resizable(False, False)\n",
    "root.title(\"Widget Examples\")\n",
    "\n",
    "text = tk.Text(root, height = 8)\n",
    "text.pack()\n",
    "\n",
    "text.insert('1.0', 'Please enter a comment...')\n",
    "text[\"state\"] = \"normal\"  #disabled\n",
    "\n",
    "text_content = text.get('1.0', 'end')\n",
    "print(text_content)\n",
    "\n",
    "root.mainloop()"
   ]
  },
  {
   "cell_type": "code",
   "execution_count": 7,
   "id": "f419202f",
   "metadata": {},
   "outputs": [],
   "source": [
    "root = tk.Tk()\n",
    "root.geometry(\"600x400\")\n",
    "root.resizable(False, False)\n",
    "root.title(\"Widget Examples\")\n",
    "\n",
    "root.grid_columnconfigure(0, weight = 1)\n",
    "root.grid_rowconfigure(0, weight = 1)\n",
    "\n",
    "text = tk.Text(root, height = 8)\n",
    "text.grid(row=0, column = 0, sticky = 'ew')\n",
    "text.insert(\"1.0\", \"Please enter a comment...\")\n",
    "\n",
    "text_scroll = ttk.Scrollbar(root, orient = \"vertical\", command = text.yview)\n",
    "text_scroll.grid(row = 0, column = 1, sticky = \"ns\")\n",
    "text[\"yscrollcommand\"] = text_scroll.set\n",
    "\n",
    "root.mainloop()"
   ]
  },
  {
   "cell_type": "code",
   "execution_count": 7,
   "id": "3b41a64e",
   "metadata": {},
   "outputs": [],
   "source": [
    "root = tk.Tk()\n",
    "root.geometry(\"600x400\")\n",
    "root.resizable(False, False)\n",
    "root.title(\"Widget Examples\")\n",
    "\n",
    "ttk.Label(root, text = 'Hello', padding=20).pack()\n",
    "\n",
    "ttk.Separator(root, orient= \"horizontal\").pack(fill = 'x')\n",
    "\n",
    "ttk.Label(root, text = 'Hello', padding=20).pack()\n",
    "\n",
    "root.mainloop()"
   ]
  },
  {
   "cell_type": "code",
   "execution_count": 3,
   "id": "c1e069b0",
   "metadata": {},
   "outputs": [],
   "source": [
    "root = tk.Tk()\n",
    "root.geometry(\"600x400\")\n",
    "root.resizable(False, False)\n",
    "root.title(\"Widget Examples\")\n",
    "\n",
    "check_button = ttk.Checkbutton(root, text = \"Check me\")\n",
    "check_button.pack()\n",
    "\n",
    "\n",
    "root.mainloop()"
   ]
  },
  {
   "cell_type": "code",
   "execution_count": 9,
   "id": "e09326dd",
   "metadata": {},
   "outputs": [
    {
     "name": "stdout",
     "output_type": "stream",
     "text": [
      "On\n"
     ]
    }
   ],
   "source": [
    "root = tk.Tk()\n",
    "root.geometry(\"600x400\")\n",
    "root.resizable(False, False)\n",
    "root.title(\"Widget Examples\")\n",
    "\n",
    "selected_option= tk.StringVar()\n",
    "\n",
    "def print_current_option():\n",
    "    print(selected_option.get())\n",
    "    \n",
    "check = ttk.Checkbutton(\n",
    "    root, \n",
    "    text = \"Check example\", \n",
    "    variable = selected_option, \n",
    "    command = print_current_option, \n",
    "    onvalue = \"On\", \n",
    "    offvalue = \"Off\")\n",
    "\n",
    "check.pack()\n",
    "root.mainloop()"
   ]
  },
  {
   "cell_type": "code",
   "execution_count": 5,
   "id": "145c4b81",
   "metadata": {},
   "outputs": [],
   "source": [
    "root = tk.Tk()\n",
    "root.geometry(\"600x400\")\n",
    "root.resizable(False, False)\n",
    "root.title(\"Widget Examples\")\n",
    "\n",
    "storage_variable = tk.StringVar()\n",
    "\n",
    "op1 = ttk.Radiobutton(\n",
    "    root, \n",
    "    text = \"Option 1\", \n",
    "    variable = storage_variable,\n",
    "    value = \"First option\")\n",
    "\n",
    "op2 = ttk.Radiobutton(\n",
    "    root, \n",
    "    text = \"Option 2\", \n",
    "    variable = storage_variable,\n",
    "    value = \"Second option\")\n",
    "\n",
    "op3 = ttk.Radiobutton(\n",
    "    root, \n",
    "    text = \"Option 3\", \n",
    "    variable = storage_variable,\n",
    "    value = \"Third option\")\n",
    "\n",
    "op1.pack()\n",
    "op2.pack()\n",
    "op3.pack()\n",
    "\n",
    "root.mainloop()"
   ]
  },
  {
   "cell_type": "code",
   "execution_count": 4,
   "id": "24699663",
   "metadata": {},
   "outputs": [],
   "source": [
    "root = tk.Tk()\n",
    "root.geometry(\"600x400\")\n",
    "root.resizable(False, False)\n",
    "root.title(\"Widget Examples\")\n",
    "\n",
    "selected_weekday = tk.StringVar()\n",
    "weekday = ttk.Combobox(root, textvariable = selected_weekday)\n",
    "\n",
    "weekday[\"values\"] = (\"Mon\", \"Tues\", \"Wednes\", \"Thurs\", \"Fri\")\n",
    "weekday[\"state\"] = \"readonly\" #normal \n",
    "\n",
    "def handle_selection(event): \n",
    "    print(\"Today is \", selected_weekday.get())\n",
    "    print(weekday.current())\n",
    "    \n",
    "weekday.bind(\"<<ComboboxSelected>>\", handle_selection)\n",
    "    \n",
    "\n",
    "weekday.pack()\n",
    "root.mainloop()"
   ]
  },
  {
   "cell_type": "code",
   "execution_count": 3,
   "id": "f7b582a6",
   "metadata": {},
   "outputs": [],
   "source": [
    "root = tk.Tk()\n",
    "root.geometry(\"600x400\")\n",
    "root.resizable(False, False)\n",
    "root.title(\"Widget Examples\")\n",
    "\n",
    "progamming_languages = (\"C\", \"JS\", \"Python\", \"R\", \"SQL\")\n",
    "\n",
    "langs = tk.StringVar(value = progamming_languages)\n",
    "langs_select = tk.Listbox(root, listvariable = langs, height=6) #selectmode = extended \n",
    "langs_select.pack()\n",
    "\n",
    "def handle_selection_change(event):\n",
    "    selected_indices = langs_select.curselection()\n",
    "    for i in selected_indices: \n",
    "        print(langs_select.get(i))\n",
    "    \n",
    "langs_select.bind(\"<<ListboxSelect>>\", handle_selection_change)\n",
    "\n",
    "root.mainloop()"
   ]
  },
  {
   "cell_type": "code",
   "execution_count": 3,
   "id": "07e5997b",
   "metadata": {},
   "outputs": [],
   "source": [
    "root = tk.Tk()\n",
    "root.geometry(\"600x400\")\n",
    "root.resizable(False, False)\n",
    "root.title(\"Widget Examples\")\n",
    "\n",
    "def handle_scale(event):\n",
    "    print(scale.get())\n",
    "\n",
    "scale = ttk.Scale(root, orient = \"horizontal\", from_ = 0, to = 10, command= handle_scale)\n",
    "scale.pack(fill = \"x\")\n",
    "\n",
    "\n",
    "root.mainloop()"
   ]
  },
  {
   "cell_type": "code",
   "execution_count": null,
   "id": "b9cf317f",
   "metadata": {},
   "outputs": [],
   "source": []
  }
 ],
 "metadata": {
  "kernelspec": {
   "display_name": "Python 3 (ipykernel)",
   "language": "python",
   "name": "python3"
  },
  "language_info": {
   "codemirror_mode": {
    "name": "ipython",
    "version": 3
   },
   "file_extension": ".py",
   "mimetype": "text/x-python",
   "name": "python",
   "nbconvert_exporter": "python",
   "pygments_lexer": "ipython3",
   "version": "3.9.17"
  }
 },
 "nbformat": 4,
 "nbformat_minor": 5
}
