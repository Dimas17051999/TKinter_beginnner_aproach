{
 "cells": [
  {
   "cell_type": "code",
   "execution_count": 9,
   "id": "4cbec61f",
   "metadata": {},
   "outputs": [],
   "source": [
    "import tkinter as tk \n",
    "from tkinter import ttk #import widgets\n",
    "try: \n",
    "    from ctypes import windll\n",
    "    windll.shcore.SetProcessDpiAwareness(1)\n",
    "except: \n",
    "    pass"
   ]
  },
  {
   "cell_type": "code",
   "execution_count": 2,
   "id": "1ebc306f",
   "metadata": {},
   "outputs": [],
   "source": [
    "tkinter._test()"
   ]
  },
  {
   "cell_type": "code",
   "execution_count": 10,
   "id": "d37ac11c",
   "metadata": {},
   "outputs": [],
   "source": [
    "root = tk.Tk() # Main window\n",
    "ttk.Label(root, text='Hello, world', padding = (30,10)).pack() # A label si set in the root (main window) with the text Hello world\n",
    "root.mainloop() #launch the main window"
   ]
  },
  {
   "cell_type": "code",
   "execution_count": 10,
   "id": "69f7e012",
   "metadata": {},
   "outputs": [],
   "source": [
    "def greet(): \n",
    "    print('Hello world')\n",
    "    \n",
    "    \n",
    "root = tk.Tk()\n",
    "greet_button = ttk.Button(root, text = 'Greet', command = greet) #This button calls the function\n",
    "greet_button.pack(side= 'left', fill = 'x', expand = True) #Dont forget the pack function to insert the buttton into the main loop\n",
    "# Fill = x, y, both. Expand = True\n",
    "quit_button = ttk.Button(root, text = 'Quit', command = root.destroy, paddin = (50,50))\n",
    "quit_button.pack(side = 'right')\n",
    "\n",
    "root.mainloop()"
   ]
  },
  {
   "cell_type": "code",
   "execution_count": 22,
   "id": "9051fb2d",
   "metadata": {},
   "outputs": [],
   "source": [
    "def greet(): \n",
    "    print(f\"Hello {username.get() or 'World'}!\")\n",
    "    \n",
    "    \n",
    "root = tk.Tk()\n",
    "\n",
    "username = tk.StringVar() #This function handle strings \n",
    "\n",
    "name_label = ttk.Label(root, text= 'Name: ')\n",
    "name_label.pack(side = 'left', padx=(0,10))\n",
    "name_entry = ttk.Entry(root, width=15, textvariable = username)\n",
    "name_entry.pack(side = 'left')\n",
    "name_entry.focus()\n",
    "\n",
    "greet_button = ttk.Button(root, text = 'Greet', command = greet) #This button calls the function\n",
    "greet_button.pack(side= 'left', fill = 'x', expand = True) #Dont forget the pack function to insert the buttton into the main loop\n",
    "# Fill = x, y, both. Expand = True\n",
    "quit_button = ttk.Button(root, text = 'Quit', command = root.destroy)\n",
    "quit_button.pack(side = 'right')\n",
    "\n",
    "root.mainloop()"
   ]
  },
  {
   "cell_type": "code",
   "execution_count": 27,
   "id": "8ab861f9",
   "metadata": {},
   "outputs": [],
   "source": [
    "root = tk.Tk()\n",
    "root.geometry(\"600x400\")\n",
    "\n",
    "rectangle_1 = tk.Label(root, text = \"Rectangle 1\", bg = \"green\", fg= \"white\")\n",
    "rectangle_1.pack(ipadx = 10, ipady = 10, fill = \"both\", expand = True)\n",
    "\n",
    "rectangle_2 = tk.Label(root, text = \"Rectangle 2\", bg = \"red\", fg = \"white\")\n",
    "rectangle_2.pack(ipadx = 10, ipady = 10, fill = \"both\")\n",
    "\n",
    "root.mainloop()"
   ]
  },
  {
   "cell_type": "code",
   "execution_count": 3,
   "id": "031915e8",
   "metadata": {},
   "outputs": [],
   "source": [
    "root = tk.Tk()\n",
    "\n",
    "main = ttk.Frame(root)\n",
    "main.pack(side = 'left', fill = 'both', expand = True)\n",
    "\n",
    "tk.Label(main, text = 'Label top', bg = 'red').pack(side = 'top', expand = 'True', fill = 'both')\n",
    "tk.Label(main, text = 'Label top', bg = 'red').pack(side = 'top', expand = 'True', fill = 'both')\n",
    "tk.Label(root, text = 'Label left', bg = 'green').pack(side = 'left', expand = 'True', fill = 'both')\n",
    "\n",
    "\n",
    "root.mainloop()"
   ]
  },
  {
   "cell_type": "code",
   "execution_count": 7,
   "id": "3a1fae51",
   "metadata": {},
   "outputs": [],
   "source": [
    "def greet(): \n",
    "    print(f\"Hello {username.get() or 'World'}!\")\n",
    "    \n",
    "    \n",
    "root = tk.Tk()\n",
    "root.title('Greeter')\n",
    "\n",
    "username = tk.StringVar() #This function handle strings \n",
    "\n",
    "input_frame = ttk.Frame(root, padding = (20,10,20,0))\n",
    "input_frame.pack(fill = 'both')\n",
    "\n",
    "name_label = ttk.Label(input_frame, text= 'Name: ')\n",
    "name_label.pack(side = 'left', padx=(0,10))\n",
    "name_entry = ttk.Entry(input_frame, width=15, textvariable = username)\n",
    "name_entry.pack(side = 'left')\n",
    "name_entry.focus()\n",
    "\n",
    "buttons_frame = ttk.Frame(root, padding = (20,10,20,0))\n",
    "buttons_frame.pack(fill = 'both')\n",
    "\n",
    "greet_button = ttk.Button(buttons_frame, text = 'Greet', command = greet) #This button calls the function\n",
    "greet_button.pack(side= 'left') #Dont forget the pack function to insert the buttton into the main loop\n",
    "# Fill = x, y, both. Expand = True\n",
    "quit_button = ttk.Button(buttons_frame, text = 'Quit', command = root.destroy)\n",
    "quit_button.pack(side = 'left')\n",
    "\n",
    "root.mainloop()"
   ]
  }
 ],
 "metadata": {
  "kernelspec": {
   "display_name": "Python 3 (ipykernel)",
   "language": "python",
   "name": "python3"
  },
  "language_info": {
   "codemirror_mode": {
    "name": "ipython",
    "version": 3
   },
   "file_extension": ".py",
   "mimetype": "text/x-python",
   "name": "python",
   "nbconvert_exporter": "python",
   "pygments_lexer": "ipython3",
   "version": "3.9.17"
  }
 },
 "nbformat": 4,
 "nbformat_minor": 5
}
